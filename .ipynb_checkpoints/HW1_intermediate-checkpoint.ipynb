{
 "cells": [
  {
   "cell_type": "code",
   "execution_count": 9,
   "metadata": {
    "collapsed": false
   },
   "outputs": [
    {
     "name": "stdout",
     "output_type": "stream",
     "text": [
      "Count of (spooky AND action AND distance) occurences: 24\n"
     ]
    }
   ],
   "source": [
    "##Author: AE\n",
    "\n",
    "#New research question: To what extent did main stream news media pick up on the recent Spooky Action at a Distance result?\n",
    "#How many sentences, among the sources that mediacloud pulls from, include the three main terms together (spooky, action, distance)?\n",
    "#Time frame given is all time (currently less than 1 month) past the publication date in Nature (Oct 21st 2015).\n",
    "\n",
    "import mediacloud, datetime\n",
    "\n",
    "API_File = open('MC_ApiKey.txt','r')\n",
    "API_KEY = API_File.read()\n",
    "\n",
    "mc = mediacloud.api.MediaCloud(API_KEY)\n",
    "\n",
    "res = mc.sentenceCount('(spooky AND action AND distance)', solr_filter=[mc.publish_date_query( datetime.date( 2015, 10, 20), datetime.date( 2015, 11, 18) ), 'media_sets_id:1' ])\n",
    "\n",
    "\n",
    "print \"Count of (spooky AND action AND distance) occurences:\", res['count'] #prints count of sentences that reference (spooky, action, distance)\n",
    "\n",
    "    \n",
    "#ran successfully. Count of (spooky AND action AND distance) occurences: 24\n",
    "\n"
   ]
  },
  {
   "cell_type": "code",
   "execution_count": null,
   "metadata": {
    "collapsed": true
   },
   "outputs": [],
   "source": []
  },
  {
   "cell_type": "code",
   "execution_count": null,
   "metadata": {
    "collapsed": true
   },
   "outputs": [],
   "source": []
  }
 ],
 "metadata": {
  "kernelspec": {
   "display_name": "Python 2",
   "language": "python",
   "name": "python2"
  },
  "language_info": {
   "codemirror_mode": {
    "name": "ipython",
    "version": 2
   },
   "file_extension": ".py",
   "mimetype": "text/x-python",
   "name": "python",
   "nbconvert_exporter": "python",
   "pygments_lexer": "ipython2",
   "version": "2.7.10"
  }
 },
 "nbformat": 4,
 "nbformat_minor": 0
}
