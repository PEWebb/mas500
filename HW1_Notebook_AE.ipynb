{
 "cells": [
  {
   "cell_type": "markdown",
   "metadata": {},
   "source": [
    "## Call to MediaCloud API to analyze references to political figures"
   ]
  },
  {
   "cell_type": "code",
   "execution_count": 5,
   "metadata": {
    "collapsed": false
   },
   "outputs": [
    {
     "name": "stdout",
     "output_type": "stream",
     "text": [
      "Trump: 35841\n",
      "Obama: 16324\n",
      "Trump was referenced more in August 2015\n"
     ]
    }
   ],
   "source": [
    "##Author: AE\n",
    "\n",
    "import mediacloud, datetime\n",
    "\n",
    "mc = mediacloud.api.MediaCloud('YOUR_KEY_HERE')\n",
    "\n",
    "resT = mc.sentenceCount('(Trump)', solr_filter=[mc.publish_date_query( datetime.date( 2015, 8, 1), datetime.date( 2015, 9, 1) ), 'media_sets_id:1' ])\n",
    "\n",
    "resO = mc.sentenceCount('(Obama)', solr_filter=[mc.publish_date_query( datetime.date(2015, 8, 1), datetime.date( 2015, 9, 1) ), 'media_sets_id:1' ])\n",
    "\n",
    "print \"Trump:\", resT['count'] #prints count of sentences that reference Trump\n",
    "\n",
    "print \"Obama:\", resO['count'] # prints count of sentences that reference Obama\n",
    "\n",
    "if resO['count'] > resT['count']:\n",
    "    print \"Obama was referenced more in August 2015\"\n",
    "    \n",
    "elif resT['count'] > resO['count']:\n",
    "    print \"Trump was referenced more in August 2015\"\n",
    "    \n",
    "else:\n",
    "    print \"Trump and Obama were referenced equally in August 2015\"\n",
    "    \n",
    "#Ran successfully with output. Trump: 35841 ; Obama: 16324. Trump was referenced more in August 2015\n"
   ]
  },
  {
   "cell_type": "code",
   "execution_count": null,
   "metadata": {
    "collapsed": true
   },
   "outputs": [],
   "source": []
  },
  {
   "cell_type": "code",
   "execution_count": null,
   "metadata": {
    "collapsed": true
   },
   "outputs": [],
   "source": []
  }
 ],
 "metadata": {
  "kernelspec": {
   "display_name": "Python 2",
   "language": "python",
   "name": "python2"
  },
  "language_info": {
   "codemirror_mode": {
    "name": "ipython",
    "version": 2
   },
   "file_extension": ".py",
   "mimetype": "text/x-python",
   "name": "python",
   "nbconvert_exporter": "python",
   "pygments_lexer": "ipython2",
   "version": "2.7.10"
  }
 },
 "nbformat": 4,
 "nbformat_minor": 0
}
